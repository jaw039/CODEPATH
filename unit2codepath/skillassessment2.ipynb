{
 "cells": [
  {
   "cell_type": "code",
   "execution_count": 8,
   "id": "f26ed900",
   "metadata": {},
   "outputs": [
    {
     "name": "stdout",
     "output_type": "stream",
     "text": [
      "Springfield\n",
      "Springfield\n"
     ]
    },
    {
     "ename": "KeyError",
     "evalue": "'Springfield'",
     "output_type": "error",
     "traceback": [
      "\u001b[31m---------------------------------------------------------------------------\u001b[39m",
      "\u001b[31mKeyError\u001b[39m                                  Traceback (most recent call last)",
      "\u001b[36mCell\u001b[39m\u001b[36m \u001b[39m\u001b[32mIn[8]\u001b[39m\u001b[32m, line 8\u001b[39m\n\u001b[32m      6\u001b[39m \u001b[38;5;28mprint\u001b[39m(bart[\u001b[33m\"\u001b[39m\u001b[33mhometown\u001b[39m\u001b[33m\"\u001b[39m])\n\u001b[32m      7\u001b[39m \u001b[38;5;28mprint\u001b[39m(bart.get(\u001b[33m\"\u001b[39m\u001b[33mhometown\u001b[39m\u001b[33m\"\u001b[39m))\n\u001b[32m----> \u001b[39m\u001b[32m8\u001b[39m \u001b[38;5;28mprint\u001b[39m(\u001b[43mbart\u001b[49m\u001b[43m.\u001b[49m\u001b[43mpop\u001b[49m\u001b[43m(\u001b[49m\u001b[33;43m\"\u001b[39;49m\u001b[33;43mSpringfield\u001b[39;49m\u001b[33;43m\"\u001b[39;49m\u001b[43m)\u001b[49m)\n",
      "\u001b[31mKeyError\u001b[39m: 'Springfield'"
     ]
    }
   ],
   "source": [
    "bart = {\"first name\" : \"Bart\" ,\n",
    "        \"last name\" : \"Simpson\", \n",
    "        \"age\" : 10, \n",
    "        \"hometown\": \"Springfield\"}\n",
    "\n",
    "print(bart[\"hometown\"])\n",
    "print(bart.get(\"hometown\"))\n",
    "print(bart.pop(\"Springfield\"))"
   ]
  },
  {
   "cell_type": "code",
   "execution_count": 9,
   "id": "cda21f78",
   "metadata": {},
   "outputs": [
    {
     "name": "stdout",
     "output_type": "stream",
     "text": [
      "{1: 'a', 2: 'b', 3: 'c'}\n"
     ]
    }
   ],
   "source": [
    "def mystery_function(old_dictionary):\n",
    "    new_dictionary = {}\n",
    "\n",
    "    for key, value in old_dictionary.items():\n",
    "        new_dictionary[value] = key\n",
    "    \n",
    "    return new_dictionary\n",
    "\n",
    "old_dictionary = {'a': 1, 'b' : 2, 'c':3}\n",
    "new_dictionary = mystery_function(old_dictionary)\n",
    "print(new_dictionary)"
   ]
  },
  {
   "cell_type": "markdown",
   "id": "045a0d40",
   "metadata": {},
   "source": [
    "Given an integer array, return the minimum index of a repeating element by doing a single traversal of the array. If there are no repeating elements, return None. \n",
    "\n",
    "U: for loop to go through each words  </br>\n",
    "    if [] == [] </br>\n",
    "        return index </br>"
   ]
  },
  {
   "cell_type": "code",
   "execution_count": 13,
   "id": "dd3e6f63",
   "metadata": {},
   "outputs": [
    {
     "name": "stdout",
     "output_type": "stream",
     "text": [
      "None\n",
      "1\n"
     ]
    }
   ],
   "source": [
    "def find_min_index_of_repeating(arr):\n",
    "    seen = {}\n",
    "    min_index = None\n",
    "\n",
    "    for i, num in  enumerate(arr):\n",
    "        if num in seen:\n",
    "            if min_index is None or seen[num] < min_index:\n",
    "                min_index = seen[num]\n",
    "        else:\n",
    "            seen[num] =1 \n",
    "    return min_index\n",
    "\n",
    "arr1 = [1,2,3,4,5] \n",
    "arr2 = [1,2,3,1]\n",
    "print(find_min_index_of_repeating(arr1))  \n",
    "print(find_min_index_of_repeating(arr2))  \n"
   ]
  },
  {
   "cell_type": "code",
   "execution_count": null,
   "id": "bca0664b",
   "metadata": {},
   "outputs": [],
   "source": []
  }
 ],
 "metadata": {
  "kernelspec": {
   "display_name": "Python (Jupyter Env)",
   "language": "python",
   "name": "jupyter-env"
  },
  "language_info": {
   "codemirror_mode": {
    "name": "ipython",
    "version": 3
   },
   "file_extension": ".py",
   "mimetype": "text/x-python",
   "name": "python",
   "nbconvert_exporter": "python",
   "pygments_lexer": "ipython3",
   "version": "3.13.7"
  }
 },
 "nbformat": 4,
 "nbformat_minor": 5
}
