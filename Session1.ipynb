{
 "cells": [
  {
   "cell_type": "markdown",
   "id": "ba4e565a",
   "metadata": {},
   "source": [
    "Problem 1: Hundred Acre Wood </br>\n",
    "\n",
    "Write a function welcome() that prints the string \"Welcome to The Hundred Acre Wood!\"."
   ]
  },
  {
   "cell_type": "code",
   "execution_count": null,
   "id": "7be86ead",
   "metadata": {},
   "outputs": [],
   "source": []
  },
  {
   "cell_type": "markdown",
   "id": "c63a8bf4",
   "metadata": {},
   "source": [
    "Problem 2: Greeting\n",
    "\n",
    "Write a function greeting() that accepts a single parameter, a string name, and prints the string \"Welcome to The Hundred Acre Wood <name>! My name is Christopher Robin.\""
   ]
  },
  {
   "cell_type": "code",
   "execution_count": null,
   "id": "5bb89aec",
   "metadata": {},
   "outputs": [],
   "source": []
  },
  {
   "cell_type": "markdown",
   "id": "90996d0b",
   "metadata": {},
   "source": [
    "Problem 3: Catchphrase </br>\n",
    "\n",
    "Write a function print_catchphrase() that accepts a string character as a parameter and prints the catchphrase of the given character as outlined in the table below.\n",
    " \n"
   ]
  },
  {
   "cell_type": "code",
   "execution_count": null,
   "id": "92776db0",
   "metadata": {},
   "outputs": [],
   "source": []
  },
  {
   "cell_type": "markdown",
   "id": "b03206ed",
   "metadata": {},
   "source": [
    "Problem 4: Return Item\n",
    "\n",
    "Implement a function get_item() that accepts a 0-indexed list items and a non-negative integer x and returns the element at index x in items. If x is not a valid index of items, return None."
   ]
  },
  {
   "cell_type": "code",
   "execution_count": null,
   "id": "72808539",
   "metadata": {},
   "outputs": [],
   "source": []
  },
  {
   "cell_type": "markdown",
   "id": "a02973ff",
   "metadata": {},
   "source": [
    "Problem 5: Total Honey\n",
    "\n",
    "Winnie the Pooh wants to know how much honey he has. Write a function sum_honey() that accepts a list of integers hunny_jars and returns the sum of all elements in the list. Do not use the built-in function sum()."
   ]
  },
  {
   "cell_type": "code",
   "execution_count": null,
   "id": "1d8605ff",
   "metadata": {},
   "outputs": [],
   "source": []
  },
  {
   "cell_type": "markdown",
   "id": "cc4c400f",
   "metadata": {},
   "source": [
    "Problem 6: Double Trouble\n",
    "\n",
    "Help Winnie the Pooh double his honey! Write a function doubled() that accepts a list of integers hunny_jars as a parameter and multiplies each element in the list by two. Return the doubled list."
   ]
  },
  {
   "cell_type": "code",
   "execution_count": null,
   "id": "0c453b56",
   "metadata": {},
   "outputs": [],
   "source": []
  },
  {
   "cell_type": "markdown",
   "id": "6be29af6",
   "metadata": {},
   "source": [
    "Problem 7: Poohsticks\n",
    "\n",
    "Winnie the Pooh and his friends are playing a game called Poohsticks where they drop sticks in a stream and race them. They time how long it takes each player's stick to float under Poohsticks Bridge to score each round.\n",
    "\n",
    "Write a function count_less_than() to help Pooh and his friends determine how many players should move on to the next round of Poohsticks. count_less_than() should accept a list of integers race_times and an integer threshold and return the number of race times less than threshold."
   ]
  },
  {
   "cell_type": "markdown",
   "id": "35b1061f",
   "metadata": {},
   "source": []
  },
  {
   "cell_type": "code",
   "execution_count": null,
   "id": "d437a50c",
   "metadata": {},
   "outputs": [
    {
     "name": "stdout",
     "output_type": "stream",
     "text": [
      "['t', 'r', 'i', 'g', 'g', 'e', 'r']\n",
      "['r', 'g', 'r']\n",
      "['e', 'g', 'g', 'p', 'l', 'a', 'n', 't']\n",
      "['e', 'g', 'p', 'l', 'a', 'n']\n",
      "['c', 'h', 'o', 'i', 'r']\n",
      "['c', 'h', 'o', 'r']\n"
     ]
    }
   ],
   "source": [
    "# if substring is t, i than we remove it from the string\n",
    "# if character is g, e than we check the next one, (boolean)\n",
    "    # if next one is g or r \n",
    "\n",
    "def tiggerfy(word):\n",
    "    word_array = list(word.lower())\n",
    "    print(word_array)\n",
    "    new_array = []\n",
    "    for i in range(len(word_array)):\n",
    "        if word_array[i] == \"t\" or word_array[i] == \"i\":\n",
    "            continue\n",
    "        if i < len(word_array) - 1:\n",
    "            if (word_array[i] == \"g\" and word_array[i+1] == \"g\") or (word_array[i] == \"e\" and word_array[i+1] == \"r\"):\n",
    "                i = i + 1\n",
    "                continue\n",
    "        new_array.append(word_array[i])\n",
    "    print(new_array)\n",
    "\t\t\t\n",
    "\t\t\n",
    "\n",
    "\t\t\t\n",
    "\t\t\t\n",
    "\t\t\t\n",
    "\n",
    "\n",
    "word = \"Trigger\"\n",
    "tiggerfy(word)\n",
    "\n",
    "word = \"eggplant\"\n",
    "tiggerfy(word)\n",
    "\n",
    "word = \"Choir\"\n",
    "tiggerfy(word)\n"
   ]
  },
  {
   "cell_type": "code",
   "execution_count": null,
   "id": "9acc5439",
   "metadata": {},
   "outputs": [],
   "source": []
  }
 ],
 "metadata": {
  "kernelspec": {
   "display_name": "Python (Jupyter Env)",
   "language": "python",
   "name": "jupyter-env"
  },
  "language_info": {
   "codemirror_mode": {
    "name": "ipython",
    "version": 3
   },
   "file_extension": ".py",
   "mimetype": "text/x-python",
   "name": "python",
   "nbconvert_exporter": "python",
   "pygments_lexer": "ipython3",
   "version": "3.13.7"
  }
 },
 "nbformat": 4,
 "nbformat_minor": 5
}
